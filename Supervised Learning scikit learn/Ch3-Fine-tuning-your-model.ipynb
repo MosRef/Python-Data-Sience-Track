{
 "cells": [
  {
   "cell_type": "code",
   "execution_count": 69,
   "id": "5d3b5f62",
   "metadata": {
    "scrolled": true
   },
   "outputs": [
    {
     "name": "stdout",
     "output_type": "stream",
     "text": [
      "   Pregnancies  Glucose  BloodPressure  SkinThickness  Insulin   BMI  \\\n",
      "0            6      148             72             35        0  33.6   \n",
      "1            1       85             66             29        0  26.6   \n",
      "2            8      183             64              0        0  23.3   \n",
      "3            1       89             66             23       94  28.1   \n",
      "4            0      137             40             35      168  43.1   \n",
      "\n",
      "   DiabetesPedigreeFunction  Age  Outcome  \n",
      "0                     0.627   50        1  \n",
      "1                     0.351   31        0  \n",
      "2                     0.672   32        1  \n",
      "3                     0.167   21        0  \n",
      "4                     2.288   33        1  \n"
     ]
    }
   ],
   "source": [
    "# Import numpy and pandas\n",
    "import numpy as np\n",
    "import pandas as pd\n",
    "import seaborn as sns\n",
    "sns.set_style(\"darkgrid\")\n",
    "import matplotlib.pyplot as plt\n",
    "\n",
    "\n",
    "#import os\n",
    "#print(os.listdir(\"../Datacamp-SupervisedLearning\"))\n",
    "\n",
    "# Read the CSV file into a DataFrame: df\n",
    "df = pd.read_csv('../Datacamp-SupervisedLearning/dataset/diabetes.csv')\n",
    "print(df.head())\n",
    "\n"
   ]
  },
  {
   "cell_type": "markdown",
   "id": "49f5c956",
   "metadata": {},
   "source": [
    "#### Explore the DataFrame using pandas methods\n",
    "\n",
    "Column descriptions    \n",
    "- Pregnancies: Number of times pregnant    \n",
    "- Glucose: Plasma glucose concentration a 2 hours in an oral glucose tolerance test    \n",
    "- BloodPressure: Diastolic blood pressure (mm Hg)    \n",
    "- SkinThickness: Triceps skin fold thickness (mm)    \n",
    "- Insulin: 2-Hour serum insulin (mu U/ml)    \n",
    "- BMI: Body mass index (weight in kg/(height in m)^2)    \n",
    "- DiabetesPedigreeFunction: Diabetes pedigree function    \n",
    "- Age: Age (years)    \n",
    "- Outcome: Class variable (0 or 1) 268 of 768 are 1, the others are 0    "
   ]
  },
  {
   "cell_type": "code",
   "execution_count": 70,
   "id": "b3dd5809",
   "metadata": {
    "scrolled": true
   },
   "outputs": [
    {
     "name": "stdout",
     "output_type": "stream",
     "text": [
      "dataframe size is 768 rows, 9 columns\n"
     ]
    }
   ],
   "source": [
    "# show dataframe size\n",
    "print('dataframe size is {} rows, {} columns'.format(df.shape[0], df.shape[1]))"
   ]
  },
  {
   "cell_type": "code",
   "execution_count": 71,
   "id": "a2ec581d",
   "metadata": {
    "scrolled": true
   },
   "outputs": [
    {
     "data": {
      "text/html": [
       "<style  type=\"text/css\" >\n",
       "#T_45dde_row0_col0{\n",
       "            background-color:  #f2f7fd;\n",
       "            color:  #000000;\n",
       "        }#T_45dde_row0_col1,#T_45dde_row0_col4{\n",
       "            background-color:  #f2f8fd;\n",
       "            color:  #000000;\n",
       "        }#T_45dde_row0_col2,#T_45dde_row1_col2,#T_45dde_row2_col2,#T_45dde_row3_col2,#T_45dde_row3_col3,#T_45dde_row4_col2,#T_45dde_row4_col3,#T_45dde_row5_col2,#T_45dde_row6_col0,#T_45dde_row6_col1,#T_45dde_row6_col2,#T_45dde_row6_col3,#T_45dde_row6_col4,#T_45dde_row6_col5,#T_45dde_row6_col6,#T_45dde_row8_col0,#T_45dde_row8_col1,#T_45dde_row8_col2,#T_45dde_row8_col3,#T_45dde_row8_col4,#T_45dde_row8_col5,#T_45dde_row8_col6{\n",
       "            background-color:  #f7fbff;\n",
       "            color:  #000000;\n",
       "        }#T_45dde_row0_col3{\n",
       "            background-color:  #f5fafe;\n",
       "            color:  #000000;\n",
       "        }#T_45dde_row0_col5{\n",
       "            background-color:  #f0f6fd;\n",
       "            color:  #000000;\n",
       "        }#T_45dde_row0_col6{\n",
       "            background-color:  #f4f9fe;\n",
       "            color:  #000000;\n",
       "        }#T_45dde_row1_col0,#T_45dde_row1_col3,#T_45dde_row1_col4,#T_45dde_row1_col5,#T_45dde_row4_col1,#T_45dde_row4_col6,#T_45dde_row7_col2{\n",
       "            background-color:  #08306b;\n",
       "            color:  #f1f1f1;\n",
       "        }#T_45dde_row1_col1,#T_45dde_row5_col3,#T_45dde_row5_col4{\n",
       "            background-color:  #bed8ec;\n",
       "            color:  #000000;\n",
       "        }#T_45dde_row1_col6{\n",
       "            background-color:  #caddf0;\n",
       "            color:  #000000;\n",
       "        }#T_45dde_row2_col0{\n",
       "            background-color:  #539ecd;\n",
       "            color:  #000000;\n",
       "        }#T_45dde_row2_col1,#T_45dde_row3_col0{\n",
       "            background-color:  #d6e6f4;\n",
       "            color:  #000000;\n",
       "        }#T_45dde_row2_col3{\n",
       "            background-color:  #4191c6;\n",
       "            color:  #000000;\n",
       "        }#T_45dde_row2_col4{\n",
       "            background-color:  #4594c7;\n",
       "            color:  #000000;\n",
       "        }#T_45dde_row2_col5{\n",
       "            background-color:  #549fcd;\n",
       "            color:  #000000;\n",
       "        }#T_45dde_row2_col6{\n",
       "            background-color:  #dbe9f6;\n",
       "            color:  #000000;\n",
       "        }#T_45dde_row3_col1{\n",
       "            background-color:  #dceaf6;\n",
       "            color:  #000000;\n",
       "        }#T_45dde_row3_col4{\n",
       "            background-color:  #d0e2f2;\n",
       "            color:  #000000;\n",
       "        }#T_45dde_row3_col5{\n",
       "            background-color:  #cbdef1;\n",
       "            color:  #000000;\n",
       "        }#T_45dde_row3_col6{\n",
       "            background-color:  #e0ecf8;\n",
       "            color:  #000000;\n",
       "        }#T_45dde_row4_col0{\n",
       "            background-color:  #3989c1;\n",
       "            color:  #000000;\n",
       "        }#T_45dde_row4_col4{\n",
       "            background-color:  #c3daee;\n",
       "            color:  #000000;\n",
       "        }#T_45dde_row4_col5{\n",
       "            background-color:  #08488e;\n",
       "            color:  #f1f1f1;\n",
       "        }#T_45dde_row5_col0{\n",
       "            background-color:  #c2d9ee;\n",
       "            color:  #000000;\n",
       "        }#T_45dde_row5_col1{\n",
       "            background-color:  #eaf3fb;\n",
       "            color:  #000000;\n",
       "        }#T_45dde_row5_col5{\n",
       "            background-color:  #c4daee;\n",
       "            color:  #000000;\n",
       "        }#T_45dde_row5_col6{\n",
       "            background-color:  #e7f1fa;\n",
       "            color:  #000000;\n",
       "        }#T_45dde_row7_col0{\n",
       "            background-color:  #bfd8ed;\n",
       "            color:  #000000;\n",
       "        }#T_45dde_row7_col1{\n",
       "            background-color:  #e3eef9;\n",
       "            color:  #000000;\n",
       "        }#T_45dde_row7_col3{\n",
       "            background-color:  #c7dcef;\n",
       "            color:  #000000;\n",
       "        }#T_45dde_row7_col4{\n",
       "            background-color:  #c7dbef;\n",
       "            color:  #000000;\n",
       "        }#T_45dde_row7_col5{\n",
       "            background-color:  #b9d6ea;\n",
       "            color:  #000000;\n",
       "        }#T_45dde_row7_col6{\n",
       "            background-color:  #e4eff9;\n",
       "            color:  #000000;\n",
       "        }</style><table id=\"T_45dde_\" ><thead>    <tr>        <th class=\"blank level0\" ></th>        <th class=\"col_heading level0 col0\" >mean</th>        <th class=\"col_heading level0 col1\" >std</th>        <th class=\"col_heading level0 col2\" >min</th>        <th class=\"col_heading level0 col3\" >25%</th>        <th class=\"col_heading level0 col4\" >50%</th>        <th class=\"col_heading level0 col5\" >75%</th>        <th class=\"col_heading level0 col6\" >max</th>    </tr></thead><tbody>\n",
       "                <tr>\n",
       "                        <th id=\"T_45dde_level0_row0\" class=\"row_heading level0 row0\" >Pregnancies</th>\n",
       "                        <td id=\"T_45dde_row0_col0\" class=\"data row0 col0\" >3.845052</td>\n",
       "                        <td id=\"T_45dde_row0_col1\" class=\"data row0 col1\" >3.369578</td>\n",
       "                        <td id=\"T_45dde_row0_col2\" class=\"data row0 col2\" >0.000000</td>\n",
       "                        <td id=\"T_45dde_row0_col3\" class=\"data row0 col3\" >1.000000</td>\n",
       "                        <td id=\"T_45dde_row0_col4\" class=\"data row0 col4\" >3.000000</td>\n",
       "                        <td id=\"T_45dde_row0_col5\" class=\"data row0 col5\" >6.000000</td>\n",
       "                        <td id=\"T_45dde_row0_col6\" class=\"data row0 col6\" >17.000000</td>\n",
       "            </tr>\n",
       "            <tr>\n",
       "                        <th id=\"T_45dde_level0_row1\" class=\"row_heading level0 row1\" >Glucose</th>\n",
       "                        <td id=\"T_45dde_row1_col0\" class=\"data row1 col0\" >120.894531</td>\n",
       "                        <td id=\"T_45dde_row1_col1\" class=\"data row1 col1\" >31.972618</td>\n",
       "                        <td id=\"T_45dde_row1_col2\" class=\"data row1 col2\" >0.000000</td>\n",
       "                        <td id=\"T_45dde_row1_col3\" class=\"data row1 col3\" >99.000000</td>\n",
       "                        <td id=\"T_45dde_row1_col4\" class=\"data row1 col4\" >117.000000</td>\n",
       "                        <td id=\"T_45dde_row1_col5\" class=\"data row1 col5\" >140.250000</td>\n",
       "                        <td id=\"T_45dde_row1_col6\" class=\"data row1 col6\" >199.000000</td>\n",
       "            </tr>\n",
       "            <tr>\n",
       "                        <th id=\"T_45dde_level0_row2\" class=\"row_heading level0 row2\" >BloodPressure</th>\n",
       "                        <td id=\"T_45dde_row2_col0\" class=\"data row2 col0\" >69.105469</td>\n",
       "                        <td id=\"T_45dde_row2_col1\" class=\"data row2 col1\" >19.355807</td>\n",
       "                        <td id=\"T_45dde_row2_col2\" class=\"data row2 col2\" >0.000000</td>\n",
       "                        <td id=\"T_45dde_row2_col3\" class=\"data row2 col3\" >62.000000</td>\n",
       "                        <td id=\"T_45dde_row2_col4\" class=\"data row2 col4\" >72.000000</td>\n",
       "                        <td id=\"T_45dde_row2_col5\" class=\"data row2 col5\" >80.000000</td>\n",
       "                        <td id=\"T_45dde_row2_col6\" class=\"data row2 col6\" >122.000000</td>\n",
       "            </tr>\n",
       "            <tr>\n",
       "                        <th id=\"T_45dde_level0_row3\" class=\"row_heading level0 row3\" >SkinThickness</th>\n",
       "                        <td id=\"T_45dde_row3_col0\" class=\"data row3 col0\" >20.536458</td>\n",
       "                        <td id=\"T_45dde_row3_col1\" class=\"data row3 col1\" >15.952218</td>\n",
       "                        <td id=\"T_45dde_row3_col2\" class=\"data row3 col2\" >0.000000</td>\n",
       "                        <td id=\"T_45dde_row3_col3\" class=\"data row3 col3\" >0.000000</td>\n",
       "                        <td id=\"T_45dde_row3_col4\" class=\"data row3 col4\" >23.000000</td>\n",
       "                        <td id=\"T_45dde_row3_col5\" class=\"data row3 col5\" >32.000000</td>\n",
       "                        <td id=\"T_45dde_row3_col6\" class=\"data row3 col6\" >99.000000</td>\n",
       "            </tr>\n",
       "            <tr>\n",
       "                        <th id=\"T_45dde_level0_row4\" class=\"row_heading level0 row4\" >Insulin</th>\n",
       "                        <td id=\"T_45dde_row4_col0\" class=\"data row4 col0\" >79.799479</td>\n",
       "                        <td id=\"T_45dde_row4_col1\" class=\"data row4 col1\" >115.244002</td>\n",
       "                        <td id=\"T_45dde_row4_col2\" class=\"data row4 col2\" >0.000000</td>\n",
       "                        <td id=\"T_45dde_row4_col3\" class=\"data row4 col3\" >0.000000</td>\n",
       "                        <td id=\"T_45dde_row4_col4\" class=\"data row4 col4\" >30.500000</td>\n",
       "                        <td id=\"T_45dde_row4_col5\" class=\"data row4 col5\" >127.250000</td>\n",
       "                        <td id=\"T_45dde_row4_col6\" class=\"data row4 col6\" >846.000000</td>\n",
       "            </tr>\n",
       "            <tr>\n",
       "                        <th id=\"T_45dde_level0_row5\" class=\"row_heading level0 row5\" >BMI</th>\n",
       "                        <td id=\"T_45dde_row5_col0\" class=\"data row5 col0\" >31.992578</td>\n",
       "                        <td id=\"T_45dde_row5_col1\" class=\"data row5 col1\" >7.884160</td>\n",
       "                        <td id=\"T_45dde_row5_col2\" class=\"data row5 col2\" >0.000000</td>\n",
       "                        <td id=\"T_45dde_row5_col3\" class=\"data row5 col3\" >27.300000</td>\n",
       "                        <td id=\"T_45dde_row5_col4\" class=\"data row5 col4\" >32.000000</td>\n",
       "                        <td id=\"T_45dde_row5_col5\" class=\"data row5 col5\" >36.600000</td>\n",
       "                        <td id=\"T_45dde_row5_col6\" class=\"data row5 col6\" >67.100000</td>\n",
       "            </tr>\n",
       "            <tr>\n",
       "                        <th id=\"T_45dde_level0_row6\" class=\"row_heading level0 row6\" >DiabetesPedigreeFunction</th>\n",
       "                        <td id=\"T_45dde_row6_col0\" class=\"data row6 col0\" >0.471876</td>\n",
       "                        <td id=\"T_45dde_row6_col1\" class=\"data row6 col1\" >0.331329</td>\n",
       "                        <td id=\"T_45dde_row6_col2\" class=\"data row6 col2\" >0.078000</td>\n",
       "                        <td id=\"T_45dde_row6_col3\" class=\"data row6 col3\" >0.243750</td>\n",
       "                        <td id=\"T_45dde_row6_col4\" class=\"data row6 col4\" >0.372500</td>\n",
       "                        <td id=\"T_45dde_row6_col5\" class=\"data row6 col5\" >0.626250</td>\n",
       "                        <td id=\"T_45dde_row6_col6\" class=\"data row6 col6\" >2.420000</td>\n",
       "            </tr>\n",
       "            <tr>\n",
       "                        <th id=\"T_45dde_level0_row7\" class=\"row_heading level0 row7\" >Age</th>\n",
       "                        <td id=\"T_45dde_row7_col0\" class=\"data row7 col0\" >33.240885</td>\n",
       "                        <td id=\"T_45dde_row7_col1\" class=\"data row7 col1\" >11.760232</td>\n",
       "                        <td id=\"T_45dde_row7_col2\" class=\"data row7 col2\" >21.000000</td>\n",
       "                        <td id=\"T_45dde_row7_col3\" class=\"data row7 col3\" >24.000000</td>\n",
       "                        <td id=\"T_45dde_row7_col4\" class=\"data row7 col4\" >29.000000</td>\n",
       "                        <td id=\"T_45dde_row7_col5\" class=\"data row7 col5\" >41.000000</td>\n",
       "                        <td id=\"T_45dde_row7_col6\" class=\"data row7 col6\" >81.000000</td>\n",
       "            </tr>\n",
       "            <tr>\n",
       "                        <th id=\"T_45dde_level0_row8\" class=\"row_heading level0 row8\" >Outcome</th>\n",
       "                        <td id=\"T_45dde_row8_col0\" class=\"data row8 col0\" >0.348958</td>\n",
       "                        <td id=\"T_45dde_row8_col1\" class=\"data row8 col1\" >0.476951</td>\n",
       "                        <td id=\"T_45dde_row8_col2\" class=\"data row8 col2\" >0.000000</td>\n",
       "                        <td id=\"T_45dde_row8_col3\" class=\"data row8 col3\" >0.000000</td>\n",
       "                        <td id=\"T_45dde_row8_col4\" class=\"data row8 col4\" >0.000000</td>\n",
       "                        <td id=\"T_45dde_row8_col5\" class=\"data row8 col5\" >1.000000</td>\n",
       "                        <td id=\"T_45dde_row8_col6\" class=\"data row8 col6\" >1.000000</td>\n",
       "            </tr>\n",
       "    </tbody></table>"
      ],
      "text/plain": [
       "<pandas.io.formats.style.Styler at 0x24786e5ebb0>"
      ]
     },
     "execution_count": 71,
     "metadata": {},
     "output_type": "execute_result"
    }
   ],
   "source": [
    "df.describe()[1:].T.style.background_gradient(cmap='Blues')"
   ]
  },
  {
   "cell_type": "code",
   "execution_count": 72,
   "id": "872c9f79",
   "metadata": {
    "scrolled": false
   },
   "outputs": [
    {
     "name": "stdout",
     "output_type": "stream",
     "text": [
      "<class 'pandas.core.frame.DataFrame'>\n",
      "RangeIndex: 768 entries, 0 to 767\n",
      "Data columns (total 9 columns):\n",
      " #   Column                    Non-Null Count  Dtype  \n",
      "---  ------                    --------------  -----  \n",
      " 0   Pregnancies               768 non-null    int64  \n",
      " 1   Glucose                   768 non-null    int64  \n",
      " 2   BloodPressure             768 non-null    int64  \n",
      " 3   SkinThickness             768 non-null    int64  \n",
      " 4   Insulin                   768 non-null    int64  \n",
      " 5   BMI                       768 non-null    float64\n",
      " 6   DiabetesPedigreeFunction  768 non-null    float64\n",
      " 7   Age                       768 non-null    int64  \n",
      " 8   Outcome                   768 non-null    int64  \n",
      "dtypes: float64(2), int64(7)\n",
      "memory usage: 54.1 KB\n"
     ]
    }
   ],
   "source": [
    "df.info()"
   ]
  },
  {
   "cell_type": "code",
   "execution_count": 73,
   "id": "c33bbd4a",
   "metadata": {
    "scrolled": true
   },
   "outputs": [
    {
     "data": {
      "image/png": "[encoded data removed]",
      "text/plain": [
       "<Figure size 432x288 with 2 Axes>"
      ]
     },
     "metadata": {},
     "output_type": "display_data"
    }
   ],
   "source": [
    "sns.heatmap(df.corr(), square=True, cmap='Blues');"
   ]
  },
  {
   "cell_type": "markdown",
   "id": "9e23017e",
   "metadata": {},
   "source": [
    "#### Metrics for classification\n",
    "\n",
    "Classification reports and confusion matrices are great methods to quantitatively evaluate model performance"
   ]
  },
  {
   "cell_type": "code",
   "execution_count": 74,
   "id": "3c385e6c",
   "metadata": {},
   "outputs": [],
   "source": [
    "# Create arrays for features and target variable (outcome)\n",
    "\n",
    "X = df.drop('Outcome', axis = 1)\n",
    "y = df['Outcome'].values\n",
    "\n"
   ]
  },
  {
   "cell_type": "code",
   "execution_count": 75,
   "id": "2542f47b",
   "metadata": {},
   "outputs": [
    {
     "name": "stdout",
     "output_type": "stream",
     "text": [
      "[[176  30]\n",
      " [ 56  46]]\n",
      "              precision    recall  f1-score   support\n",
      "\n",
      "           0       0.76      0.85      0.80       206\n",
      "           1       0.61      0.45      0.52       102\n",
      "\n",
      "    accuracy                           0.72       308\n",
      "   macro avg       0.68      0.65      0.66       308\n",
      "weighted avg       0.71      0.72      0.71       308\n",
      "\n"
     ]
    }
   ],
   "source": [
    "# Import necessary modules\n",
    "from sklearn.neighbors import KNeighborsClassifier\n",
    "from sklearn.model_selection import train_test_split\n",
    "from sklearn.metrics import classification_report\n",
    "from sklearn.metrics import confusion_matrix\n",
    "\n",
    "\n",
    "# Create training and test set\n",
    "X_train, X_test, y_train, y_test = train_test_split(X, y, test_size = 0.4, random_state =42)\n",
    "\n",
    "# Instantiate a k-NN classifier: knn\n",
    "knn = KNeighborsClassifier(n_neighbors = 6)\n",
    "\n",
    "# Fit the classifier to the training data\n",
    "knn.fit(X_train,y_train)\n",
    "\n",
    "# Predict the labels of the test data: y_pred\n",
    "y_pred = knn.predict(X_test)\n",
    "\n",
    "# Generate the confusion matrix and classification report\n",
    "print(confusion_matrix(y_test, y_pred))\n",
    "print(classification_report(y_test, y_pred))"
   ]
  },
  {
   "cell_type": "markdown",
   "id": "ad2f62fa",
   "metadata": {},
   "source": [
    "By analyzing the confusion matrix and classification report, you can get a much better understanding of your classifier's performance."
   ]
  },
  {
   "cell_type": "markdown",
   "id": "95909c67",
   "metadata": {},
   "source": [
    "#### Building a logistic regression model"
   ]
  },
  {
   "cell_type": "code",
   "execution_count": 76,
   "id": "cefa8e63",
   "metadata": {},
   "outputs": [
    {
     "name": "stdout",
     "output_type": "stream",
     "text": [
      "[[170  36]\n",
      " [ 36  66]]\n",
      "              precision    recall  f1-score   support\n",
      "\n",
      "           0       0.83      0.83      0.83       206\n",
      "           1       0.65      0.65      0.65       102\n",
      "\n",
      "    accuracy                           0.77       308\n",
      "   macro avg       0.74      0.74      0.74       308\n",
      "weighted avg       0.77      0.77      0.77       308\n",
      "\n"
     ]
    }
   ],
   "source": [
    "# Import the necessary modules\n",
    "from sklearn.linear_model import LogisticRegression\n",
    "from sklearn.metrics import confusion_matrix, classification_report\n",
    "\n",
    "# Create training and test sets\n",
    "X_train, X_test, y_train, y_test = train_test_split(X, y, test_size = 0.4, random_state=42)\n",
    "\n",
    "# Create the classifier: logreg\n",
    "logreg = LogisticRegression()\n",
    "\n",
    "# Fit the classifier to the training data\n",
    "logreg.fit(X_train, y_train)\n",
    "\n",
    "# Predict the labels of the test set: y_pred\n",
    "y_pred = logreg.predict(X_test)\n",
    "\n",
    "# Compute and print the confusion matrix and classification report\n",
    "print(confusion_matrix(y_test, y_pred))\n",
    "print(classification_report(y_test, y_pred))\n"
   ]
  },
  {
   "cell_type": "markdown",
   "id": "00ff2b49",
   "metadata": {},
   "source": [
    "#### Plotting an ROC curve\n",
    "ROC - Receiver Operator Characteristic Curve    \n",
    "ROC curves provide a way to visually evaluate models. Most classifiers in scikit-learn have a .predict_proba() method which returns the probability of a given sample being in a particular class. Having built a logistic regression model, you'll now evaluate its performance by plotting an ROC curve. In doing so, you'll make use of the .predict_proba() method and become familiar with its functionality."
   ]
  },
  {
   "cell_type": "code",
   "execution_count": 77,
   "id": "c8699955",
   "metadata": {},
   "outputs": [
    {
     "data": {
      "image/png": "[encoded data removed]",
      "text/plain": [
       "<Figure size 432x288 with 1 Axes>"
      ]
     },
     "metadata": {},
     "output_type": "display_data"
    }
   ],
   "source": [
    "# Import necessary modules\n",
    "from sklearn.metrics import roc_curve\n",
    "\n",
    "# Compute predicted probabilities: y_pred_prob\n",
    "y_pred_prob = logreg.predict_proba(X_test)[:,1]\n",
    "\n",
    "# Generate ROC curve values: fpr, tpr, thresholds\n",
    "fpr, tpr, thresholds = roc_curve(y_test, y_pred_prob)\n",
    "\n",
    "# Plot ROC curve\n",
    "plt.plot([0, 1], [0, 1], 'k--')\n",
    "plt.plot(fpr, tpr)\n",
    "plt.xlabel('False Positive Rate')\n",
    "plt.ylabel('True Positive Rate')\n",
    "plt.title('ROC Curve')\n",
    "plt.show()"
   ]
  },
  {
   "attachments": {
    "image.png": {
     "image/png": "[encoded data removed]"
    }
   },
   "cell_type": "markdown",
   "id": "0dd87018",
   "metadata": {},
   "source": [
    "This ROC curve provides a nice visual way to assess your classifier's performance \n",
    "![image.png](attachment:image.png)\n",
    "\n",
    "- The area under the ROC, commonly denoted as AUC, is another populat metric for classification models.\n",
    "- Larger area under the ROC curve = better model\n",
    "  -  area = 0.5 -> random split  (random guessing, only correct 50% of the time)\n",
    "  -  area = 0.8 -> Good split\n",
    "  -  area = 1   -> Perfect split"
   ]
  },
  {
   "cell_type": "markdown",
   "id": "7057f983",
   "metadata": {},
   "source": [
    "#### AUC computation"
   ]
  },
  {
   "cell_type": "code",
   "execution_count": 78,
   "id": "1c68e7a5",
   "metadata": {},
   "outputs": [
    {
     "name": "stdout",
     "output_type": "stream",
     "text": [
      "AUC: 0.8260517799352751\n",
      "AUC scores computed using 5-fold cross-validation: [0.80814815 0.80777778 0.82666667 0.87490566 0.83245283]\n"
     ]
    }
   ],
   "source": [
    "# Import necessary modules\n",
    "from sklearn.metrics import roc_auc_score \n",
    "from sklearn.model_selection import cross_val_score\n",
    "\n",
    "# Compute predicted probabilities: y_pred_prob\n",
    "y_pred_prob = logreg.predict_proba(X_test)[:,1]\n",
    "\n",
    "# Compute and print AUC score\n",
    "print(\"AUC: {}\".format(roc_auc_score(y_test, y_pred_prob)))\n",
    "\n",
    "# Compute cross-validated AUC scores: cv_auc\n",
    "cv_auc = cross_val_score(logreg, X, y, scoring='roc_auc', cv=5)\n",
    "\n",
    "# Print list of AUC scores\n",
    "print(\"AUC scores computed using 5-fold cross-validation: {}\".format(cv_auc))\n"
   ]
  },
  {
   "cell_type": "markdown",
   "id": "f78810d7",
   "metadata": {},
   "source": [
    "#### Hyperparameter tuning with GridSearchCV\n",
    "\n",
    "Like the alpha parameter of lasso and ridge regularization, logistic regression also has a regularization parameter: C. C controls the inverse of the regularization strength, and this is what we will tune in this exercise. A large C can lead to an overfit model, while a small  can lead to an underfit model."
   ]
  },
  {
   "cell_type": "code",
   "execution_count": 79,
   "id": "76ab5dcf",
   "metadata": {},
   "outputs": [
    {
     "data": {
      "text/html": [
       "<div>\n",
       "<style scoped>\n",
       "    .dataframe tbody tr th:only-of-type {\n",
       "        vertical-align: middle;\n",
       "    }\n",
       "\n",
       "    .dataframe tbody tr th {\n",
       "        vertical-align: top;\n",
       "    }\n",
       "\n",
       "    .dataframe thead th {\n",
       "        text-align: right;\n",
       "    }\n",
       "</style>\n",
       "<table border=\"1\" class=\"dataframe\">\n",
       "  <thead>\n",
       "    <tr style=\"text-align: right;\">\n",
       "      <th></th>\n",
       "      <th>Pregnancies</th>\n",
       "      <th>Glucose</th>\n",
       "      <th>BloodPressure</th>\n",
       "      <th>SkinThickness</th>\n",
       "      <th>Insulin</th>\n",
       "      <th>BMI</th>\n",
       "      <th>DiabetesPedigreeFunction</th>\n",
       "      <th>Age</th>\n",
       "    </tr>\n",
       "  </thead>\n",
       "  <tbody>\n",
       "    <tr>\n",
       "      <th>0</th>\n",
       "      <td>6</td>\n",
       "      <td>148</td>\n",
       "      <td>72</td>\n",
       "      <td>35</td>\n",
       "      <td>0</td>\n",
       "      <td>33.6</td>\n",
       "      <td>0.627</td>\n",
       "      <td>50</td>\n",
       "    </tr>\n",
       "    <tr>\n",
       "      <th>1</th>\n",
       "      <td>1</td>\n",
       "      <td>85</td>\n",
       "      <td>66</td>\n",
       "      <td>29</td>\n",
       "      <td>0</td>\n",
       "      <td>26.6</td>\n",
       "      <td>0.351</td>\n",
       "      <td>31</td>\n",
       "    </tr>\n",
       "    <tr>\n",
       "      <th>2</th>\n",
       "      <td>8</td>\n",
       "      <td>183</td>\n",
       "      <td>64</td>\n",
       "      <td>0</td>\n",
       "      <td>0</td>\n",
       "      <td>23.3</td>\n",
       "      <td>0.672</td>\n",
       "      <td>32</td>\n",
       "    </tr>\n",
       "    <tr>\n",
       "      <th>3</th>\n",
       "      <td>1</td>\n",
       "      <td>89</td>\n",
       "      <td>66</td>\n",
       "      <td>23</td>\n",
       "      <td>94</td>\n",
       "      <td>28.1</td>\n",
       "      <td>0.167</td>\n",
       "      <td>21</td>\n",
       "    </tr>\n",
       "    <tr>\n",
       "      <th>4</th>\n",
       "      <td>0</td>\n",
       "      <td>137</td>\n",
       "      <td>40</td>\n",
       "      <td>35</td>\n",
       "      <td>168</td>\n",
       "      <td>43.1</td>\n",
       "      <td>2.288</td>\n",
       "      <td>33</td>\n",
       "    </tr>\n",
       "    <tr>\n",
       "      <th>...</th>\n",
       "      <td>...</td>\n",
       "      <td>...</td>\n",
       "      <td>...</td>\n",
       "      <td>...</td>\n",
       "      <td>...</td>\n",
       "      <td>...</td>\n",
       "      <td>...</td>\n",
       "      <td>...</td>\n",
       "    </tr>\n",
       "    <tr>\n",
       "      <th>763</th>\n",
       "      <td>10</td>\n",
       "      <td>101</td>\n",
       "      <td>76</td>\n",
       "      <td>48</td>\n",
       "      <td>180</td>\n",
       "      <td>32.9</td>\n",
       "      <td>0.171</td>\n",
       "      <td>63</td>\n",
       "    </tr>\n",
       "    <tr>\n",
       "      <th>764</th>\n",
       "      <td>2</td>\n",
       "      <td>122</td>\n",
       "      <td>70</td>\n",
       "      <td>27</td>\n",
       "      <td>0</td>\n",
       "      <td>36.8</td>\n",
       "      <td>0.340</td>\n",
       "      <td>27</td>\n",
       "    </tr>\n",
       "    <tr>\n",
       "      <th>765</th>\n",
       "      <td>5</td>\n",
       "      <td>121</td>\n",
       "      <td>72</td>\n",
       "      <td>23</td>\n",
       "      <td>112</td>\n",
       "      <td>26.2</td>\n",
       "      <td>0.245</td>\n",
       "      <td>30</td>\n",
       "    </tr>\n",
       "    <tr>\n",
       "      <th>766</th>\n",
       "      <td>1</td>\n",
       "      <td>126</td>\n",
       "      <td>60</td>\n",
       "      <td>0</td>\n",
       "      <td>0</td>\n",
       "      <td>30.1</td>\n",
       "      <td>0.349</td>\n",
       "      <td>47</td>\n",
       "    </tr>\n",
       "    <tr>\n",
       "      <th>767</th>\n",
       "      <td>1</td>\n",
       "      <td>93</td>\n",
       "      <td>70</td>\n",
       "      <td>31</td>\n",
       "      <td>0</td>\n",
       "      <td>30.4</td>\n",
       "      <td>0.315</td>\n",
       "      <td>23</td>\n",
       "    </tr>\n",
       "  </tbody>\n",
       "</table>\n",
       "<p>768 rows × 8 columns</p>\n",
       "</div>"
      ],
      "text/plain": [
       "     Pregnancies  Glucose  BloodPressure  SkinThickness  Insulin   BMI  \\\n",
       "0              6      148             72             35        0  33.6   \n",
       "1              1       85             66             29        0  26.6   \n",
       "2              8      183             64              0        0  23.3   \n",
       "3              1       89             66             23       94  28.1   \n",
       "4              0      137             40             35      168  43.1   \n",
       "..           ...      ...            ...            ...      ...   ...   \n",
       "763           10      101             76             48      180  32.9   \n",
       "764            2      122             70             27        0  36.8   \n",
       "765            5      121             72             23      112  26.2   \n",
       "766            1      126             60              0        0  30.1   \n",
       "767            1       93             70             31        0  30.4   \n",
       "\n",
       "     DiabetesPedigreeFunction  Age  \n",
       "0                       0.627   50  \n",
       "1                       0.351   31  \n",
       "2                       0.672   32  \n",
       "3                       0.167   21  \n",
       "4                       2.288   33  \n",
       "..                        ...  ...  \n",
       "763                     0.171   63  \n",
       "764                     0.340   27  \n",
       "765                     0.245   30  \n",
       "766                     0.349   47  \n",
       "767                     0.315   23  \n",
       "\n",
       "[768 rows x 8 columns]"
      ]
     },
     "execution_count": 79,
     "metadata": {},
     "output_type": "execute_result"
    }
   ],
   "source": [
    "X\n"
   ]
  },
  {
   "cell_type": "code",
   "execution_count": 80,
   "id": "498c1b5b",
   "metadata": {
    "scrolled": true
   },
   "outputs": [
    {
     "name": "stdout",
     "output_type": "stream",
     "text": [
      "Tuned Logistic Regression Parameters: {'C': 0.006105402296585327}\n",
      "Best score is 0.7734742381801205\n"
     ]
    }
   ],
   "source": [
    "from sklearn.linear_model import LogisticRegression\n",
    "from sklearn.model_selection import GridSearchCV\n",
    "\n",
    "# Setup the hyperparameter grid\n",
    "c_space = np.logspace(-5, 8, 15)\n",
    "param_grid = {'C': c_space}\n",
    "\n",
    "# Instantiate a logistic regression classifier: logreg\n",
    "logreg = LogisticRegression(solver='lbfgs', max_iter=1000)\n",
    "\n",
    "# Instantiate the GridSearchCV object: logreg_cv\n",
    "logreg_cv = GridSearchCV(logreg, param_grid, cv=5)\n",
    "# Fit it to the data\n",
    "logreg_cv.fit(X, y)\n",
    "\n",
    "# Print the tuned parameters and score\n",
    "print(\"Tuned Logistic Regression Parameters: {}\".format(logreg_cv.best_params_)) \n",
    "print(\"Best score is {}\".format(logreg_cv.best_score_))"
   ]
  },
  {
   "cell_type": "markdown",
   "id": "c2eedbc2",
   "metadata": {},
   "source": [
    "#### Hyperparameter tuning with RandomizedSearchCV\n",
    "\n",
    "GridSearchCV can be computationally expensive, especially if you are searching over a large hyperparameter space and dealing with multiple hyperparameters. A solution to this is to use RandomizedSearchCV, in which not all hyperparameter values are tried out. Instead, a fixed number of hyperparameter settings is sampled from specified probability distributions."
   ]
  },
  {
   "cell_type": "code",
   "execution_count": 81,
   "id": "558141d3",
   "metadata": {
    "scrolled": true
   },
   "outputs": [
    {
     "name": "stdout",
     "output_type": "stream",
     "text": [
      "Tuned Decision Tree Parameters: {'criterion': 'gini', 'max_depth': 3, 'max_features': 4, 'min_samples_leaf': 3}\n",
      "Best score is 0.7448858331211273\n"
     ]
    }
   ],
   "source": [
    "# Import necessary modules\n",
    "from scipy.stats import randint\n",
    "from sklearn.tree import DecisionTreeClassifier\n",
    "from sklearn.model_selection import RandomizedSearchCV\n",
    "\n",
    "# Setup the parameters and distributions to sample from: param_dist\n",
    "param_dist = {\"max_depth\": [3, None],\n",
    "              \"max_features\": randint(1, 9),\n",
    "              \"min_samples_leaf\": randint(1, 9),\n",
    "              \"criterion\": [\"gini\", \"entropy\"]}\n",
    "\n",
    "# Instantiate a Decision Tree classifier: tree\n",
    "tree = DecisionTreeClassifier()\n",
    "\n",
    "# Instantiate the RandomizedSearchCV object: tree_cv\n",
    "tree_cv = RandomizedSearchCV(tree, param_dist, cv=5)\n",
    "\n",
    "# Fit it to the data\n",
    "tree_cv.fit(X, y)\n",
    "\n",
    "# Print the tuned parameters and score\n",
    "print(\"Tuned Decision Tree Parameters: {}\".format(tree_cv.best_params_))\n",
    "print(\"Best score is {}\".format(tree_cv.best_score_))\n"
   ]
  },
  {
   "cell_type": "markdown",
   "id": "64e165b1",
   "metadata": {},
   "source": [
    "Note that RandomizedSearchCV will never outperform GridSearchCV. Instead, it is valuable because it saves on computation time"
   ]
  },
  {
   "cell_type": "markdown",
   "id": "47ea318b",
   "metadata": {},
   "source": [
    "#### Hold-out set\n",
    "\n",
    "The idea is to tune the model's hyperparameters on the training set, and then evaluate its performance on the hold-out set which it has never seen before."
   ]
  },
  {
   "cell_type": "markdown",
   "id": "c1854a57",
   "metadata": {},
   "source": [
    "#### Hold-out set in practice I: Classification"
   ]
  },
  {
   "cell_type": "code",
   "execution_count": 82,
   "id": "ee3e23df",
   "metadata": {},
   "outputs": [
    {
     "name": "stdout",
     "output_type": "stream",
     "text": [
      "Tuned Logistic Regression Parameter: {'C': 3.727593720314938, 'penalty': 'l2'}\n",
      "Tuned Logistic Regression Accuracy: 0.7608695652173914\n"
     ]
    }
   ],
   "source": [
    "# Import necessary modules\n",
    "from sklearn.model_selection import train_test_split\n",
    "from sklearn.linear_model import LogisticRegression\n",
    "from sklearn.model_selection import GridSearchCV\n",
    "\n",
    "# Create the hyperparameter grid\n",
    "c_space = np.logspace(-5, 8, 15)\n",
    "param_grid = {'C': c_space, 'penalty': ['l1', 'l2']}\n",
    "\n",
    "# Instantiate the logistic regression classifier: logreg\n",
    "logreg = LogisticRegression( penalty='l1', solver='liblinear')\n",
    "\n",
    "# Create train and test sets\n",
    "X_train, X_test, y_train, y_test = train_test_split(X,y, test_size=0.4, random_state=42)\n",
    "\n",
    "# Instantiate the GridSearchCV object: logreg_cv\n",
    "logreg_cv = GridSearchCV(logreg,                    # model\n",
    "                   param_grid = param_grid,   # hyperparameters\n",
    "                   scoring='accuracy',        # metric for scoring\n",
    "                   cv=5)                     # number of folds\n",
    "\n",
    "# Fit it to the training data\n",
    "logreg_cv.fit(X_train,y_train)\n",
    "\n",
    "# Print the optimal parameters and best score\n",
    "print(\"Tuned Logistic Regression Parameter: {}\".format(logreg_cv.best_params_))\n",
    "print(\"Tuned Logistic Regression Accuracy: {}\".format(logreg_cv.best_score_))\n",
    "\n"
   ]
  },
  {
   "cell_type": "markdown",
   "id": "f9dfe8c6",
   "metadata": {},
   "source": [
    "#### Hold-out set in practice II: Regression"
   ]
  },
  {
   "cell_type": "code",
   "execution_count": 83,
   "id": "337f271e",
   "metadata": {},
   "outputs": [
    {
     "name": "stdout",
     "output_type": "stream",
     "text": [
      "Tuned ElasticNet l1 ratio: {'l1_ratio': 0.0}\n",
      "Tuned ElasticNet R squared: 0.24765337510702734\n",
      "Tuned ElasticNet MSE: 0.16664179543611005\n"
     ]
    }
   ],
   "source": [
    "# Import necessary modules\n",
    "from sklearn.linear_model import ElasticNet\n",
    "from sklearn.metrics import mean_squared_error\n",
    "from sklearn.model_selection import GridSearchCV\n",
    "from sklearn.model_selection import train_test_split\n",
    "import warnings\n",
    "warnings.filterwarnings('ignore')\n",
    "\n",
    "# Create train and test sets\n",
    "X_train, X_test, y_train, y_test = train_test_split(X, y, test_size = 0.4, random_state = 42)\n",
    "\n",
    "# Create the hyperparameter grid\n",
    "l1_space = np.linspace(0, 1, 30)\n",
    "param_grid = {'l1_ratio': l1_space}\n",
    "\n",
    "# Instantiate the ElasticNet regressor: elastic_net\n",
    "elastic_net = ElasticNet()\n",
    "\n",
    "# Setup the GridSearchCV object: gm_cv\n",
    "gm_cv = GridSearchCV(elastic_net, param_grid, cv=5)\n",
    "\n",
    "# Fit it to the training data\n",
    "gm_cv.fit(X_train, y_train)\n",
    "\n",
    "# Predict on the test set and compute metrics\n",
    "y_pred = gm_cv.predict(X_test)\n",
    "r2 = gm_cv.score(X_test, y_test)\n",
    "mse = mean_squared_error(y_test, y_pred)\n",
    "print(\"Tuned ElasticNet l1 ratio: {}\".format(gm_cv.best_params_))\n",
    "print(\"Tuned ElasticNet R squared: {}\".format(r2))\n",
    "print(\"Tuned ElasticNet MSE: {}\".format(mse))\n"
   ]
  },
  {
   "cell_type": "code",
   "execution_count": null,
   "id": "cbc40066",
   "metadata": {},
   "outputs": [],
   "source": []
  }
 ],
 "metadata": {
  "kernelspec": {
   "display_name": "Python 3",
   "language": "python",
   "name": "python3"
  },
  "language_info": {
   "codemirror_mode": {
    "name": "ipython",
    "version": 3
   },
   "file_extension": ".py",
   "mimetype": "text/x-python",
   "name": "python",
   "nbconvert_exporter": "python",
   "pygments_lexer": "ipython3",
   "version": "3.8.8"
  }
 },
 "nbformat": 4,
 "nbformat_minor": 5
}
